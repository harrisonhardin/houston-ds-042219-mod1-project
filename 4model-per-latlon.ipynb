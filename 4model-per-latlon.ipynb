{
 "cells": [
  {
   "cell_type": "markdown",
   "metadata": {},
   "source": [
    "# Build model based on nearest properties that predict your property value\n",
    "\n",
    "It might be usefull to know your neighbourhood avg price in order to predic\n",
    "the value of the existing property. So the question is How does that work ?.\n",
    "\n",
    "Table of Contents\n",
    "1. [Getting our nearest properties](#Getting-our-nearest-properties)\n",
    "2. [Running nearest properties avg price/sqft against dataset](#Running-nearest-properties-avg-price-per-sqft-against-dataset)\n",
    "3. [Convert categorical variables](#Convert-categorical-variables)\n",
    "4. [Scale and normalise variables](#Scale-and-normalise-variables)\n",
    "5. [Building the model](#Building-the-model)\n",
    "6. [Conclusion](#Conclusion)\n"
   ]
  },
  {
   "cell_type": "code",
   "execution_count": 1,
   "metadata": {
    "inputHidden": false,
    "outputHidden": false
   },
   "outputs": [],
   "source": [
    "import housing_data as hd\n",
    "import pandas as pd\n",
    "from statsmodels.formula.api import ols\n",
    "import numpy as np\n",
    "\n",
    "%load_ext autoreload\n",
    "%autoreload 2\n"
   ]
  },
  {
   "cell_type": "markdown",
   "metadata": {},
   "source": [
    "## Getting our nearest properties\n",
    "\n",
    "It might be usefull to know your neighbourhood avg price in order to predic\n",
    "the value of the existing property. For that we need to come up with an\n",
    "algorithm that retrieves those nearest properties.\n",
    "see housing_data module for more details.\n",
    "\n"
   ]
  },
  {
   "cell_type": "code",
   "execution_count": 2,
   "metadata": {
    "inputHidden": false,
    "outputHidden": false
   },
   "outputs": [],
   "source": [
    "# Load dataset\n",
    "data = hd.load_housing_data(with_cat_columns=False)\n"
   ]
  },
  {
   "cell_type": "code",
   "execution_count": 3,
   "metadata": {
    "inputHidden": false,
    "outputHidden": false
   },
   "outputs": [
    {
     "name": "stdout",
     "output_type": "stream",
     "text": [
      "Average price/sqft_living :  194.5573950948879\n",
      "Global Average price/sqft_living :  259.7177804188506\n"
     ]
    }
   ],
   "source": [
    "# Try to get Avg price per sqft base on nearest neighbors within radius (in km)\n",
    "property_ds = data.iloc[0]  # Selected property\n",
    "radius = 1  # 1 mile around selected property.\n",
    "\n",
    "# Retrieve nearest properties\n",
    "closet_properties_df = hd.get_closest_properties(data, property_ds, radius)\n",
    "\n",
    "# Calculate Avg price per sqft and compare it against global Avg price/sqft\n",
    "print('Average price/sqft_living : ', closet_properties_df['price'].mean()/closet_properties_df['sqft_living'].mean())\n",
    "print('Global Average price/sqft_living : ', data['price'].mean()/data['sqft_living'].mean())\n"
   ]
  },
  {
   "cell_type": "markdown",
   "metadata": {},
   "source": [
    "**Conclusion** : Now that we are able to calculate the Avg price around the\n",
    "property, we can generalise the calculus to the entire dataset.\n"
   ]
  },
  {
   "cell_type": "code",
   "execution_count": 4,
   "metadata": {
    "inputHidden": false,
    "outputHidden": false
   },
   "outputs": [],
   "source": [
    "# ## Running nearest properties avg price per sqft against dataset\n",
    "# Run the prediction on a smaller dataset as the process take ages\n",
    "# (~20mins depending on your machine).\n",
    "enriched_data = data.copy()\n",
    "sample_data = enriched_data[:1000]\n"
   ]
  },
  {
   "cell_type": "code",
   "execution_count": 6,
   "metadata": {
    "inputHidden": false,
    "outputHidden": false
   },
   "outputs": [
    {
     "name": "stdout",
     "output_type": "stream",
     "text": [
      "--- 62.601375102996826 seconds ---\n"
     ]
    },
    {
     "name": "stderr",
     "output_type": "stream",
     "text": [
      "/Users/flatironstudentaccount/anaconda3/lib/python3.7/site-packages/ipykernel_launcher.py:2: SettingWithCopyWarning: \n",
      "A value is trying to be set on a copy of a slice from a DataFrame.\n",
      "Try using .loc[row_indexer,col_indexer] = value instead\n",
      "\n",
      "See the caveats in the documentation: http://pandas.pydata.org/pandas-docs/stable/indexing.html#indexing-view-versus-copy\n",
      "  \n"
     ]
    },
    {
     "data": {
      "text/html": [
       "<div>\n",
       "<style scoped>\n",
       "    .dataframe tbody tr th:only-of-type {\n",
       "        vertical-align: middle;\n",
       "    }\n",
       "\n",
       "    .dataframe tbody tr th {\n",
       "        vertical-align: top;\n",
       "    }\n",
       "\n",
       "    .dataframe thead th {\n",
       "        text-align: right;\n",
       "    }\n",
       "</style>\n",
       "<table border=\"1\" class=\"dataframe\">\n",
       "  <thead>\n",
       "    <tr style=\"text-align: right;\">\n",
       "      <th></th>\n",
       "      <th>id</th>\n",
       "      <th>date</th>\n",
       "      <th>price</th>\n",
       "      <th>bedrooms</th>\n",
       "      <th>bathrooms</th>\n",
       "      <th>sqft_living</th>\n",
       "      <th>sqft_lot</th>\n",
       "      <th>floors</th>\n",
       "      <th>waterfront</th>\n",
       "      <th>view</th>\n",
       "      <th>...</th>\n",
       "      <th>sqft_above</th>\n",
       "      <th>sqft_basement</th>\n",
       "      <th>yr_built</th>\n",
       "      <th>yr_renovated</th>\n",
       "      <th>zipcode</th>\n",
       "      <th>lat</th>\n",
       "      <th>long</th>\n",
       "      <th>sqft_living15</th>\n",
       "      <th>sqft_lot15</th>\n",
       "      <th>price_sqft</th>\n",
       "    </tr>\n",
       "  </thead>\n",
       "  <tbody>\n",
       "    <tr>\n",
       "      <th>0</th>\n",
       "      <td>7129300520</td>\n",
       "      <td>2014-10-13</td>\n",
       "      <td>221900.0</td>\n",
       "      <td>3</td>\n",
       "      <td>1.00</td>\n",
       "      <td>1180</td>\n",
       "      <td>5650</td>\n",
       "      <td>1.0</td>\n",
       "      <td>False</td>\n",
       "      <td>0.0</td>\n",
       "      <td>...</td>\n",
       "      <td>1180</td>\n",
       "      <td>0.0</td>\n",
       "      <td>1955-01-01</td>\n",
       "      <td>1955-01-01</td>\n",
       "      <td>98178</td>\n",
       "      <td>47.5112</td>\n",
       "      <td>-122.257</td>\n",
       "      <td>1340</td>\n",
       "      <td>5650</td>\n",
       "      <td>189.782374</td>\n",
       "    </tr>\n",
       "    <tr>\n",
       "      <th>1</th>\n",
       "      <td>6414100192</td>\n",
       "      <td>2014-12-09</td>\n",
       "      <td>538000.0</td>\n",
       "      <td>3</td>\n",
       "      <td>2.25</td>\n",
       "      <td>2570</td>\n",
       "      <td>7242</td>\n",
       "      <td>2.0</td>\n",
       "      <td>False</td>\n",
       "      <td>0.0</td>\n",
       "      <td>...</td>\n",
       "      <td>2170</td>\n",
       "      <td>400.0</td>\n",
       "      <td>1951-01-01</td>\n",
       "      <td>1991-01-01</td>\n",
       "      <td>98125</td>\n",
       "      <td>47.7210</td>\n",
       "      <td>-122.319</td>\n",
       "      <td>1690</td>\n",
       "      <td>7639</td>\n",
       "      <td>243.328684</td>\n",
       "    </tr>\n",
       "    <tr>\n",
       "      <th>2</th>\n",
       "      <td>5631500400</td>\n",
       "      <td>2015-02-25</td>\n",
       "      <td>180000.0</td>\n",
       "      <td>2</td>\n",
       "      <td>1.00</td>\n",
       "      <td>770</td>\n",
       "      <td>10000</td>\n",
       "      <td>1.0</td>\n",
       "      <td>False</td>\n",
       "      <td>0.0</td>\n",
       "      <td>...</td>\n",
       "      <td>770</td>\n",
       "      <td>0.0</td>\n",
       "      <td>1933-01-01</td>\n",
       "      <td>1933-01-01</td>\n",
       "      <td>98028</td>\n",
       "      <td>47.7379</td>\n",
       "      <td>-122.233</td>\n",
       "      <td>2720</td>\n",
       "      <td>8062</td>\n",
       "      <td>214.846416</td>\n",
       "    </tr>\n",
       "    <tr>\n",
       "      <th>3</th>\n",
       "      <td>2487200875</td>\n",
       "      <td>2014-12-09</td>\n",
       "      <td>604000.0</td>\n",
       "      <td>4</td>\n",
       "      <td>3.00</td>\n",
       "      <td>1960</td>\n",
       "      <td>5000</td>\n",
       "      <td>1.0</td>\n",
       "      <td>False</td>\n",
       "      <td>0.0</td>\n",
       "      <td>...</td>\n",
       "      <td>1050</td>\n",
       "      <td>910.0</td>\n",
       "      <td>1965-01-01</td>\n",
       "      <td>1965-01-01</td>\n",
       "      <td>98136</td>\n",
       "      <td>47.5208</td>\n",
       "      <td>-122.393</td>\n",
       "      <td>1360</td>\n",
       "      <td>5000</td>\n",
       "      <td>268.797359</td>\n",
       "    </tr>\n",
       "    <tr>\n",
       "      <th>4</th>\n",
       "      <td>1954400510</td>\n",
       "      <td>2015-02-18</td>\n",
       "      <td>510000.0</td>\n",
       "      <td>3</td>\n",
       "      <td>2.00</td>\n",
       "      <td>1680</td>\n",
       "      <td>8080</td>\n",
       "      <td>1.0</td>\n",
       "      <td>False</td>\n",
       "      <td>0.0</td>\n",
       "      <td>...</td>\n",
       "      <td>1680</td>\n",
       "      <td>0.0</td>\n",
       "      <td>1987-01-01</td>\n",
       "      <td>1987-01-01</td>\n",
       "      <td>98074</td>\n",
       "      <td>47.6168</td>\n",
       "      <td>-122.045</td>\n",
       "      <td>1800</td>\n",
       "      <td>7503</td>\n",
       "      <td>267.000000</td>\n",
       "    </tr>\n",
       "  </tbody>\n",
       "</table>\n",
       "<p>5 rows × 22 columns</p>\n",
       "</div>"
      ],
      "text/plain": [
       "           id       date     price  bedrooms  bathrooms  sqft_living  \\\n",
       "0  7129300520 2014-10-13  221900.0         3       1.00         1180   \n",
       "1  6414100192 2014-12-09  538000.0         3       2.25         2570   \n",
       "2  5631500400 2015-02-25  180000.0         2       1.00          770   \n",
       "3  2487200875 2014-12-09  604000.0         4       3.00         1960   \n",
       "4  1954400510 2015-02-18  510000.0         3       2.00         1680   \n",
       "\n",
       "   sqft_lot  floors  waterfront  view  ...  sqft_above  sqft_basement  \\\n",
       "0      5650     1.0       False   0.0  ...        1180            0.0   \n",
       "1      7242     2.0       False   0.0  ...        2170          400.0   \n",
       "2     10000     1.0       False   0.0  ...         770            0.0   \n",
       "3      5000     1.0       False   0.0  ...        1050          910.0   \n",
       "4      8080     1.0       False   0.0  ...        1680            0.0   \n",
       "\n",
       "    yr_built yr_renovated zipcode      lat     long  sqft_living15  \\\n",
       "0 1955-01-01   1955-01-01   98178  47.5112 -122.257           1340   \n",
       "1 1951-01-01   1991-01-01   98125  47.7210 -122.319           1690   \n",
       "2 1933-01-01   1933-01-01   98028  47.7379 -122.233           2720   \n",
       "3 1965-01-01   1965-01-01   98136  47.5208 -122.393           1360   \n",
       "4 1987-01-01   1987-01-01   98074  47.6168 -122.045           1800   \n",
       "\n",
       "   sqft_lot15  price_sqft  \n",
       "0        5650  189.782374  \n",
       "1        7639  243.328684  \n",
       "2        8062  214.846416  \n",
       "3        5000  268.797359  \n",
       "4        7503  267.000000  \n",
       "\n",
       "[5 rows x 22 columns]"
      ]
     },
     "execution_count": 6,
     "metadata": {},
     "output_type": "execute_result"
    }
   ],
   "source": [
    "# Enriched the data by adding the avg sqft price of neighbours\n",
    "sample_data['price_sqft'] = hd.get_price_per_sqft_living(sample_data)\n",
    "sample_data.head()\n",
    "\n"
   ]
  },
  {
   "cell_type": "markdown",
   "metadata": {},
   "source": [
    "## Convert categorical variables"
   ]
  },
  {
   "cell_type": "code",
   "execution_count": 7,
   "metadata": {
    "inputHidden": false,
    "outputHidden": false
   },
   "outputs": [],
   "source": [
    "# We are now going to try to run a simple Regression against our dataset\n",
    "cat_variables = ['grade', 'condition']\n",
    "cleaned_data = hd.convert_categorical_variables(sample_data, cat_variables, False)\n"
   ]
  },
  {
   "cell_type": "markdown",
   "metadata": {},
   "source": [
    "## Scale and normalise variables\n"
   ]
  },
  {
   "cell_type": "code",
   "execution_count": null,
   "metadata": {
    "inputHidden": false,
    "outputHidden": false
   },
   "outputs": [],
   "source": [
    "# Plotting variables to see distribution and skewness\n",
    "x_cols = ['price', 'sqft_living', 'price_sqft']\n",
    "pd.plotting.scatter_matrix(cleaned_data[x_cols], figsize=(10,12));\n"
   ]
  },
  {
   "cell_type": "markdown",
   "metadata": {},
   "source": [
    "**Conclusion** : We can see that these variables are not normally distriburted\n",
    "Some log normalisation is needed in order to remove skewness.\n",
    "\n"
   ]
  },
  {
   "cell_type": "code",
   "execution_count": 8,
   "metadata": {
    "inputHidden": false,
    "outputHidden": false
   },
   "outputs": [],
   "source": [
    "# Scale Variables data\n",
    "log_sqft_living = np.log(cleaned_data['sqft_living'])\n",
    "log_price_sqft = np.log(cleaned_data['price_sqft'])\n",
    "\n",
    "# Scaling the variables\n",
    "scaled_sqft_living = (log_sqft_living-min(log_sqft_living))/(max(log_sqft_living)-min(log_sqft_living))\n",
    "scaled_price_sqft = (log_price_sqft-min(log_price_sqft))/(max(log_price_sqft)-min(log_price_sqft))\n",
    "\n",
    "data_fin = pd.DataFrame([])\n",
    "data_fin['sqft_living'] = scaled_sqft_living\n",
    "data_fin['price_sqft'] = scaled_price_sqft\n",
    "\n",
    "scaled_data = cleaned_data.drop(['sqft_living', 'price_sqft'], axis=1)\n",
    "scaled_data = pd.concat([scaled_data, data_fin], axis=1)\n",
    "\n"
   ]
  },
  {
   "cell_type": "markdown",
   "metadata": {},
   "source": [
    "# Building the model\n",
    "We are now going to try to run a simple Regression against our dataset\n"
   ]
  },
  {
   "cell_type": "code",
   "execution_count": 9,
   "metadata": {
    "inputHidden": false,
    "outputHidden": false
   },
   "outputs": [],
   "source": [
    "# Build formula\n",
    "# Notes that we are especting a corrolation between sqft_living and price_sqft\n",
    "formula = 'price ~ sqft_living * price_sqft -1'\n"
   ]
  },
  {
   "cell_type": "code",
   "execution_count": 10,
   "metadata": {
    "inputHidden": false,
    "outputHidden": false
   },
   "outputs": [
    {
     "data": {
      "text/html": [
       "<table class=\"simpletable\">\n",
       "<caption>OLS Regression Results</caption>\n",
       "<tr>\n",
       "  <th>Dep. Variable:</th>          <td>price</td>      <th>  R-squared:         </th> <td>   0.893</td> \n",
       "</tr>\n",
       "<tr>\n",
       "  <th>Model:</th>                   <td>OLS</td>       <th>  Adj. R-squared:    </th> <td>   0.893</td> \n",
       "</tr>\n",
       "<tr>\n",
       "  <th>Method:</th>             <td>Least Squares</td>  <th>  F-statistic:       </th> <td>   2773.</td> \n",
       "</tr>\n",
       "<tr>\n",
       "  <th>Date:</th>             <td>Wed, 08 May 2019</td> <th>  Prob (F-statistic):</th>  <td>  0.00</td>  \n",
       "</tr>\n",
       "<tr>\n",
       "  <th>Time:</th>                 <td>16:28:48</td>     <th>  Log-Likelihood:    </th> <td> -13640.</td> \n",
       "</tr>\n",
       "<tr>\n",
       "  <th>No. Observations:</th>      <td>  1000</td>      <th>  AIC:               </th> <td>2.729e+04</td>\n",
       "</tr>\n",
       "<tr>\n",
       "  <th>Df Residuals:</th>          <td>   997</td>      <th>  BIC:               </th> <td>2.730e+04</td>\n",
       "</tr>\n",
       "<tr>\n",
       "  <th>Df Model:</th>              <td>     3</td>      <th>                     </th>     <td> </td>    \n",
       "</tr>\n",
       "<tr>\n",
       "  <th>Covariance Type:</th>      <td>nonrobust</td>    <th>                     </th>     <td> </td>    \n",
       "</tr>\n",
       "</table>\n",
       "<table class=\"simpletable\">\n",
       "<tr>\n",
       "             <td></td>               <th>coef</th>     <th>std err</th>      <th>t</th>      <th>P>|t|</th>  <th>[0.025</th>    <th>0.975]</th>  \n",
       "</tr>\n",
       "<tr>\n",
       "  <th>sqft_living</th>            <td> 2.771e+05</td> <td> 2.71e+04</td> <td>   10.222</td> <td> 0.000</td> <td> 2.24e+05</td> <td>  3.3e+05</td>\n",
       "</tr>\n",
       "<tr>\n",
       "  <th>price_sqft</th>             <td>-5.208e+05</td> <td> 5.43e+04</td> <td>   -9.589</td> <td> 0.000</td> <td>-6.27e+05</td> <td>-4.14e+05</td>\n",
       "</tr>\n",
       "<tr>\n",
       "  <th>sqft_living:price_sqft</th> <td> 2.356e+06</td> <td> 1.02e+05</td> <td>   23.206</td> <td> 0.000</td> <td> 2.16e+06</td> <td> 2.56e+06</td>\n",
       "</tr>\n",
       "</table>\n",
       "<table class=\"simpletable\">\n",
       "<tr>\n",
       "  <th>Omnibus:</th>       <td>988.904</td> <th>  Durbin-Watson:     </th> <td>   1.908</td> \n",
       "</tr>\n",
       "<tr>\n",
       "  <th>Prob(Omnibus):</th> <td> 0.000</td>  <th>  Jarque-Bera (JB):  </th> <td>66120.301</td>\n",
       "</tr>\n",
       "<tr>\n",
       "  <th>Skew:</th>          <td> 4.466</td>  <th>  Prob(JB):          </th> <td>    0.00</td> \n",
       "</tr>\n",
       "<tr>\n",
       "  <th>Kurtosis:</th>      <td>41.821</td>  <th>  Cond. No.          </th> <td>    13.7</td> \n",
       "</tr>\n",
       "</table><br/><br/>Warnings:<br/>[1] Standard Errors assume that the covariance matrix of the errors is correctly specified."
      ],
      "text/plain": [
       "<class 'statsmodels.iolib.summary.Summary'>\n",
       "\"\"\"\n",
       "                            OLS Regression Results                            \n",
       "==============================================================================\n",
       "Dep. Variable:                  price   R-squared:                       0.893\n",
       "Model:                            OLS   Adj. R-squared:                  0.893\n",
       "Method:                 Least Squares   F-statistic:                     2773.\n",
       "Date:                Wed, 08 May 2019   Prob (F-statistic):               0.00\n",
       "Time:                        16:28:48   Log-Likelihood:                -13640.\n",
       "No. Observations:                1000   AIC:                         2.729e+04\n",
       "Df Residuals:                     997   BIC:                         2.730e+04\n",
       "Df Model:                           3                                         \n",
       "Covariance Type:            nonrobust                                         \n",
       "==========================================================================================\n",
       "                             coef    std err          t      P>|t|      [0.025      0.975]\n",
       "------------------------------------------------------------------------------------------\n",
       "sqft_living             2.771e+05   2.71e+04     10.222      0.000    2.24e+05     3.3e+05\n",
       "price_sqft             -5.208e+05   5.43e+04     -9.589      0.000   -6.27e+05   -4.14e+05\n",
       "sqft_living:price_sqft  2.356e+06   1.02e+05     23.206      0.000    2.16e+06    2.56e+06\n",
       "==============================================================================\n",
       "Omnibus:                      988.904   Durbin-Watson:                   1.908\n",
       "Prob(Omnibus):                  0.000   Jarque-Bera (JB):            66120.301\n",
       "Skew:                           4.466   Prob(JB):                         0.00\n",
       "Kurtosis:                      41.821   Cond. No.                         13.7\n",
       "==============================================================================\n",
       "\n",
       "Warnings:\n",
       "[1] Standard Errors assume that the covariance matrix of the errors is correctly specified.\n",
       "\"\"\""
      ]
     },
     "execution_count": 10,
     "metadata": {},
     "output_type": "execute_result"
    }
   ],
   "source": [
    "# Run simple prediction\n",
    "model = ols(formula=formula, data=scaled_data).fit()\n",
    "model.summary()\n"
   ]
  },
  {
   "cell_type": "markdown",
   "metadata": {},
   "source": [
    "**Observations** : The Adj. R-squared is pretty high and our variables coef\n",
    "p-values are low. This looks much better than the zipcode model.\n"
   ]
  },
  {
   "cell_type": "markdown",
   "metadata": {},
   "source": [
    "# Conclusion\n",
    "We saw that the model built based on lat/lon proximity is more accurate\n",
    "than the one based on zipcode. This might be true because of price variation\n",
    "within a specific zipcode.\n",
    "We are now going to try to run a simple Regression against our dataset"
   ]
  }
 ],
 "metadata": {
  "kernelspec": {
   "display_name": "Python 3",
   "language": "python",
   "name": "python3"
  },
  "language_info": {
   "codemirror_mode": {
    "name": "ipython",
    "version": 3
   },
   "file_extension": ".py",
   "mimetype": "text/x-python",
   "name": "python",
   "nbconvert_exporter": "python",
   "pygments_lexer": "ipython3",
   "version": "3.7.3"
  }
 },
 "nbformat": 4,
 "nbformat_minor": 1
}
