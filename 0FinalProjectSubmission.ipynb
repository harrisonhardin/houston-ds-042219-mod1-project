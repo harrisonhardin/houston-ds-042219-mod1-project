{
 "cells": [
  {
   "cell_type": "markdown",
   "metadata": {},
   "source": [
    "## Final Project Submission\n",
    "\n",
    "Please fill out:\n",
    "* Student name: \n",
    "* Student pace: self paced / part time / full time\n",
    "* Scheduled project review date/time: \n",
    "* Instructor name: \n",
    "* Blog post URL:\n"
   ]
  },
  {
   "cell_type": "markdown",
   "metadata": {},
   "source": [
    "# Harrison Hardin and Francois Le Ralle, full time \n",
    "## scheduled to present 3:30 PM Wednesday, May 8, 2019\n",
    "### Instructor: Rachel Hirsch"
   ]
  },
  {
   "cell_type": "markdown",
   "metadata": {},
   "source": [
    "**Our Deck**\n",
    "https://docs.google.com/presentation/d/1ZQmxRGd5sqoJZn4SAWMV4eN78CAnqxdxQ3FFvq9a6zU/edit#slide=id.gc6f9e470d_0_37"
   ]
  },
  {
   "cell_type": "markdown",
   "metadata": {},
   "source": [
    "1. 1EDA.ipynb\n",
    "2. 2data-cleaning.ipynb\n",
    "3. 3SqftModel(Harrison).ipynb\n",
    "4. 4model-per-latlon.ipynb\n",
    "5. 5model-per-zipcode.ipynb"
   ]
  }
 ],
 "metadata": {
  "kernelspec": {
   "display_name": "Python 3",
   "language": "python",
   "name": "python3"
  },
  "language_info": {
   "codemirror_mode": {
    "name": "ipython",
    "version": 3
   },
   "file_extension": ".py",
   "mimetype": "text/x-python",
   "name": "python",
   "nbconvert_exporter": "python",
   "pygments_lexer": "ipython3",
   "version": "3.7.3"
  }
 },
 "nbformat": 4,
 "nbformat_minor": 2
}
